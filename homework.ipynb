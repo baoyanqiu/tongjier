{
 "cells": [
  {
   "cell_type": "code",
   "execution_count": 4,
   "metadata": {},
   "outputs": [
    {
     "ename": "IndentationError",
     "evalue": "unexpected indent (<ipython-input-4-13862b5d6b80>, line 25)",
     "output_type": "error",
     "traceback": [
      "\u001b[1;36m  File \u001b[1;32m\"<ipython-input-4-13862b5d6b80>\"\u001b[1;36m, line \u001b[1;32m25\u001b[0m\n\u001b[1;33m    print('您的对手为',q)\u001b[0m\n\u001b[1;37m    ^\u001b[0m\n\u001b[1;31mIndentationError\u001b[0m\u001b[1;31m:\u001b[0m unexpected indent\n"
     ]
    }
   ],
   "source": [
    "import numpy as np\n",
    "class Wangzhe(object):\n",
    "    def __init__(self):\n",
    "        pass\n",
    "    def renji(self):\n",
    "        print('请选择人机或者多人对战！')\n",
    "        res = input('输入')\n",
    "        print(\"您选的是\",res)\n",
    "        self.res=res\n",
    "    def tiaoxuan(self):\n",
    "        print('请从典韦、赵云、鲁班中挑选一个人物！')\n",
    "        ren = input('输入')\n",
    "        print(\"您选的是\",ren)\n",
    "        self.ren=ren\n",
    "    def xianshizhanli(self):\n",
    "        if self.ren == '典韦':\n",
    "            print(\"您选择的典韦战力为10000，防御力为5000\")\n",
    "        elif self.ren == '赵云':\n",
    "            print(\"您选择的赵云战力为20000，防御力为2000\")\n",
    "        else:\n",
    "            print(\"您选择的鲁班战力为15000，防御力为3500\")\n",
    "    def renwuqueding(self):\n",
    "            print(\"您的人物以确定，现在系统随机为您生成对战玩家\")\n",
    "            q = np.random.choice(['典韦','赵云','鲁班'])\n",
    "                print('您的对手为',q)\n",
    "            def kaishi(self):\n",
    "                print(\"请输入开始\")\n",
    "            w = input('输入')\n",
    "            if w == \"开始\":\n",
    "                print(\"输入正确\")\n",
    "            else:\n",
    "                print(\"输入有误！\")\n",
    "    def jiazai(self):\n",
    "        print('正在加载，请耐心等待！')\n",
    "    \n",
    "qwe = Wangzhe()\n",
    "qwe.renji()\n",
    "qwe.tiaoxuan()\n",
    "qwe.xianshizhanli()\n",
    "qwe.renwuqueding()\n",
    "qwe.kaishi()\n",
    "qwe.jiazai()"
   ]
  },
  {
   "cell_type": "code",
   "execution_count": 5,
   "metadata": {},
   "outputs": [
    {
     "name": "stdout",
     "output_type": "stream",
     "text": [
      "1.0 5.0 12.0 22.0 35.0 51.0 70.0 92.0 117.0 145.0\n",
      "176.0 210.0 247.0 287.0 330.0 376.0 425.0 477.0 532.0 590.0\n",
      "651.0 715.0 782.0 852.0 925.0 1001.0 1080.0 1162.0 1247.0 1335.0\n",
      "1426.0 1520.0 1617.0 1717.0 1820.0 1926.0 2035.0 2147.0 2262.0 2380.0\n",
      "2501.0 2625.0 2752.0 2882.0 3015.0 3151.0 3290.0 3432.0 3577.0 3725.0\n",
      "3876.0 4030.0 4187.0 4347.0 4510.0 4676.0 4845.0 5017.0 5192.0 5370.0\n",
      "5551.0 5735.0 5922.0 6112.0 6305.0 6501.0 6700.0 6902.0 7107.0 7315.0\n",
      "7526.0 7740.0 7957.0 8177.0 8400.0 8626.0 8855.0 9087.0 9322.0 9560.0\n",
      "9801.0 10045.0 10292.0 10542.0 10795.0 11051.0 11310.0 11572.0 11837.0 12105.0\n",
      "12376.0 12650.0 12927.0 13207.0 13490.0 13776.0 14065.0 14357.0 14652.0 14950.0\n"
     ]
    }
   ],
   "source": [
    "#一个五角数被定义为n(3n-1)/2,编写一个测试程序使用这个函数显示前100个五角数，\n",
    "def getPentagonalNumber(n):\n",
    "    c = n*(3*n-1)/2#\n",
    "    if n%10 !=0:#n模10不等于0的时候，每行十个\n",
    "        print(c,end=' ')#打印在下一行\n",
    "    else:\n",
    "        print(c)#否则直接打印\n",
    "        \n",
    "for i in range(1,101):\n",
    "    getPentagonalNumber(i)"
   ]
  },
  {
   "cell_type": "code",
   "execution_count": null,
   "metadata": {},
   "outputs": [],
   "source": [
    "#一个五角数被定义为n(3n-1)/2,编写一个测试程序使用这个函数显示前100个五角数\n",
    "def getPentagonalNumber(n):#定义一个名为getPentagonalNumber的函数，参数为n\n",
    "    return n*(3*n-1)/2#返回n(3n-1)/2\n",
    "count =0\n",
    "for n in range(1,101):\n",
    "    if count <9:\n",
    "        print( \"%.0f \"%getPentagonalNumber(n),end=\"\")\n",
    "        count += 1\n",
    "    else:\n",
    "        print( \"%.0f\"%getPentagonalNumber(n))\n",
    "        count = 0"
   ]
  },
  {
   "cell_type": "code",
   "execution_count": 1,
   "metadata": {},
   "outputs": [
    {
     "name": "stdout",
     "output_type": "stream",
     "text": [
      "1\t 5\t 12\t 22\t 35\t 51\t 70\t 92\t 117\t 145\t \n",
      "176\t 210\t 247\t 287\t 330\t 376\t 425\t 477\t 532\t 590\t \n",
      "651\t 715\t 782\t 852\t 925\t 1001\t 1080\t 1162\t 1247\t 1335\t \n",
      "1426\t 1520\t 1617\t 1717\t 1820\t 1926\t 2035\t 2147\t 2262\t 2380\t \n",
      "2501\t 2625\t 2752\t 2882\t 3015\t 3151\t 3290\t 3432\t 3577\t 3725\t \n",
      "3876\t 4030\t 4187\t 4347\t 4510\t 4676\t 4845\t 5017\t 5192\t 5370\t \n",
      "5551\t 5735\t 5922\t 6112\t 6305\t 6501\t 6700\t 6902\t 7107\t 7315\t \n",
      "7526\t 7740\t 7957\t 8177\t 8400\t 8626\t 8855\t 9087\t 9322\t 9560\t \n",
      "9801\t 10045\t 10292\t 10542\t 10795\t 11051\t 11310\t 11572\t 11837\t 12105\t \n",
      "12376\t 12650\t 12927\t 13207\t 13490\t 13776\t 14065\t 14357\t 14652\t 14950\t \n"
     ]
    }
   ],
   "source": [
    "#五角数\n",
    "def getPentagonalNumber(n):\n",
    "    c = int(n * (3 * n - 1) / 2)\n",
    "    print(c,end = '\\t ')\n",
    "    if n % 10 == 0:\n",
    "        print()\n",
    "for i in range(1,101):\n",
    "    getPentagonalNumber(i)"
   ]
  },
  {
   "cell_type": "code",
   "execution_count": 52,
   "metadata": {},
   "outputs": [
    {
     "name": "stdout",
     "output_type": "stream",
     "text": [
      "请输入一个数字：456\n",
      "15\n"
     ]
    }
   ],
   "source": [
    "#编写程序提示用户输入一个整数，然后显示这个整数所有数字的和\n",
    "def sumDigits(n):\n",
    "    sum = 0#初始化返回值为0\n",
    "    while True:#死循环\n",
    "        sum += n%10#取余10就能得到个位的数字，然后将这个数字累加到sum上\n",
    "        n //= 10#将n除10，相当于把个位去掉，原来的视为就变成了个位，百威变十位……\n",
    "        if n == 0:#检查当前值如果已经是0，说明数字的所有位都已经处理了，所以要跳出死循环break\n",
    "            break\n",
    "    return sum#返回最终结果\n",
    "num = int(input(\"请输入一个数字：\"))#让用户手动输入一个数字\n",
    "print(sumDigits(num))#调用函数返回结果并打印"
   ]
  },
  {
   "cell_type": "code",
   "execution_count": null,
   "metadata": {},
   "outputs": [],
   "source": [
    "#求一个整数各个数字的和\n",
    "def sumDigits(n):\n",
    "    str_ = str(n)#str 将括号中的内容强制转化为字符串\n",
    "    int_ = 0#初始化\n",
    "    for i in str_:\n",
    "        int_ += int(i)#int_ =int_ + int(i)\n",
    "    print(int_)\n",
    "sumDigits(456)"
   ]
  },
  {
   "cell_type": "code",
   "execution_count": 109,
   "metadata": {},
   "outputs": [
    {
     "name": "stdout",
     "output_type": "stream",
     "text": [
      "请输入一个数字：789456\n",
      "39\n"
     ]
    }
   ],
   "source": [
    "def sumDigits(n):\n",
    "    x = n % 10#n取余得到个位数字\n",
    "    if n // 10 == 0:#若n整除10，得到0\n",
    "        return x#则返回x\n",
    "    else:#否则\n",
    "        return x + sumDigits(n // 10)#返回\n",
    "n = int(input(\"请输入一个数字：\"))#让用户手动输入一个数字\n",
    "print(sumDigits(n))#调用函数返回结果并打印"
   ]
  },
  {
   "cell_type": "code",
   "execution_count": 2,
   "metadata": {},
   "outputs": [
    {
     "name": "stdout",
     "output_type": "stream",
     "text": [
      "[6, 8, 9]\n"
     ]
    }
   ],
   "source": [
    "def displaySortedNumbers(num1,num2,num3):\n",
    "    res = [num1,num2,num3]\n",
    "    res.sort()#默认以升序排序，sort翻转\n",
    "    print(res)\n",
    "displaySortedNumbers(8,6,9)"
   ]
  },
  {
   "cell_type": "code",
   "execution_count": 66,
   "metadata": {},
   "outputs": [
    {
     "name": "stdout",
     "output_type": "stream",
     "text": [
      "Enter three number: 89 42 2\n",
      "The sorted number are 2 42 89\n"
     ]
    }
   ],
   "source": [
    "def desplaySortedNumbers(num1,num2,num3):\n",
    "    print(\"Enter three number:\",num1,num2,num3)\n",
    "    if num1>num2 and num1>num3:\n",
    "        if num2 > num3:\n",
    "            print(\"The sorted number are\",num3,num2,num1)\n",
    "        else:\n",
    "            print(\"The sorted number are\",num2,num3,num1)\n",
    "    elif num2>num1 and num2>num3:\n",
    "        if num1 > num3:\n",
    "            print(\"The sorted number are\",num3,num1,num2)\n",
    "        else:\n",
    "            print(\"The sorted number are\",num1,num3,num2)\n",
    "    elif num3>num1 and num3>num2:\n",
    "        if num1 > num2:\n",
    "            print(\"The sorted number are\",num2,num1,num3)\n",
    "        else:\n",
    "            print(\"The sorted number are\",num1,num2,num3)\n",
    "\n",
    "desplaySortedNumbers(89,42,2)"
   ]
  },
  {
   "cell_type": "code",
   "execution_count": 93,
   "metadata": {},
   "outputs": [
    {
     "name": "stdout",
     "output_type": "stream",
     "text": [
      "本金是：1\n",
      "年利率是：0.9\n",
      "每年的计息周期数是：5\n",
      "存款年限：10\n",
      "1   2.29\n",
      "2   5.23\n",
      "3   11.97\n",
      "4   27.39\n",
      "5   62.67\n",
      "6   143.37\n",
      "7   328.00\n",
      "8   750.38\n",
      "9   1716.68\n",
      "10   3927.36\n"
     ]
    }
   ],
   "source": [
    "#财务应用程序：计算未来投资值\n",
    "#def funtureInvestmentValue(investmentAmount,monthlyInterestRate,years):\n",
    "def future_value(present_value,annual_rate,  periods_per_year,  years):\n",
    "    for i in range(1,years+1):\n",
    "        rate_per_period = annual_rate / periods_per_year\n",
    "        periods = periods_per_year * i\n",
    "        print('%d   %.2f'% (i,present_value*((1+rate_per_period)**periods))) \n",
    "present_value=int(input('本金是：'))\n",
    "annual_rate=float(input('年利率是：'))\n",
    "periods_per_year=int(input('每年的计息周期数是：'))\n",
    "years=int(input('存款年限：'))\n",
    "future_value(present_value,annual_rate,  periods_per_year,  years)"
   ]
  },
  {
   "cell_type": "code",
   "execution_count": null,
   "metadata": {},
   "outputs": [],
   "source": [
    "#财务应用程序：计算未来投资值\n",
    "#def funtureInvestmentValue(investmentAmount,monthlyInterestRate,years):\n"
   ]
  },
  {
   "cell_type": "code",
   "execution_count": null,
   "metadata": {},
   "outputs": [],
   "source": [
    "#编写一个测试程序，打印\"1\"到\"Z\"的字符，每行打印10个\n",
    "def printChars(ch1,ch2,numberPerLine):"
   ]
  },
  {
   "cell_type": "code",
   "execution_count": 106,
   "metadata": {},
   "outputs": [
    {
     "name": "stdout",
     "output_type": "stream",
     "text": [
      "365天\n"
     ]
    }
   ],
   "source": [
    "#编写一个测试程序，显示从2010到2020年每年的天数\n",
    "def numberofDaysInaYear(year):\n",
    "    if((year%4 == 0 and year%100 != 0) or (year % 400 ==0)):\n",
    "        print(\"366天\")\n",
    "    else:\n",
    "        print(\"365天\")\n",
    "numberofDaysInaYear(2010)"
   ]
  },
  {
   "cell_type": "code",
   "execution_count": 101,
   "metadata": {},
   "outputs": [
    {
     "name": "stdout",
     "output_type": "stream",
     "text": [
      "2010年有365天\n",
      "2011年有365天\n",
      "2012年有366天\n",
      "2013年有365天\n",
      "2014年有365天\n",
      "2015年有365天\n",
      "2016年有366天\n",
      "2017年有365天\n",
      "2018年有365天\n",
      "2019年有365天\n",
      "2020年有366天\n"
     ]
    }
   ],
   "source": [
    "def numberOfDayInYear():\n",
    "    c=31+28+31+30+31+30+31+31+30+31+30+31\n",
    "    for year in range(2010,2021,1): \n",
    "        i=year\n",
    "        if year % 4 == 0 and  year % 100 != 0 or year % 400 == 0:\n",
    "            print('%d年有%d天'%(i,c+1)) \n",
    "        else:\n",
    "            print ('%d年有%d天'%(i,c))  \n",
    "numberOfDayInYear()"
   ]
  },
  {
   "cell_type": "code",
   "execution_count": 80,
   "metadata": {},
   "outputs": [
    {
     "name": "stdout",
     "output_type": "stream",
     "text": [
      "0.0\n"
     ]
    }
   ],
   "source": [
    "#（几何问题：显示角）重写程序清单2-9计算两点之间的距离\n",
    "import math\n",
    "def square(x):\n",
    "    return x*x\n",
    "def distance(x1,y1,x2,y2):\n",
    "    dist = math.sqrt(square(x1-x2) + square(y1-y2))\n",
    "    print(dist)\n",
    "distance(3,3,3,3)"
   ]
  },
  {
   "cell_type": "code",
   "execution_count": 108,
   "metadata": {},
   "outputs": [
    {
     "name": "stdout",
     "output_type": "stream",
     "text": [
      "p        2^p-1\n",
      "2         3\n",
      "3         7\n",
      "5         31\n"
     ]
    }
   ],
   "source": [
    "import math\n",
    "def prime():\n",
    "    num=[]\n",
    "    i=2\n",
    "    for i in range(2,32):\n",
    "        j=2\n",
    "        for j in range(2,i):\n",
    "            if(i%j==0):\n",
    "                break\n",
    "        else:\n",
    "            num.append(i)\n",
    "    return num\n",
    "def misen():\n",
    "    print('p        2^p-1')\n",
    "    a=prime()\n",
    "    for p in range(1,32):\n",
    "        for i in range(11):\n",
    "            if (2**p)-1==a[i]:\n",
    "                print(\"%d         %d\" %(p,a[i]))\n",
    "misen()"
   ]
  },
  {
   "cell_type": "code",
   "execution_count": 113,
   "metadata": {},
   "outputs": [
    {
     "name": "stdout",
     "output_type": "stream",
     "text": [
      "Tue Aug  6 23:33:21 2019\n"
     ]
    }
   ],
   "source": [
    "#编写程序显示日期和时间\n",
    "import time#调用时间参数\n",
    "print(time.asctime(time.localtime(time.time())))#获取格式化的时间"
   ]
  },
  {
   "cell_type": "code",
   "execution_count": 107,
   "metadata": {},
   "outputs": [
    {
     "name": "stdout",
     "output_type": "stream",
     "text": [
      "6 + 6 = 12\n",
      "你输了\n"
     ]
    }
   ],
   "source": [
    "#掷骰子\n",
    "import random\n",
    "def shaizi():\n",
    "      a=random.choice([1,2,3,4,5,6])\n",
    "      b=random.choice([1,2,3,4,5,6])\n",
    "      if a+b==2 or  a+b==3 or a+b==12:\n",
    "            print('%d + %d = %d' %(a,b,a+b))\n",
    "            print('你输了')\n",
    "      elif a+b==7 or a+b==11:\n",
    "            print('%d + %d = %d' %(a,b,a+b))\n",
    "            print('你赢了')\n",
    "      else:\n",
    "            print('%d + %d = %d' %(a,b,a+b))\n",
    "            c=random.choice([1,2,3,4,5,6])\n",
    "            d=random.choice([1,2,3,4,5,6])\n",
    "            if c+d==7:\n",
    "                  print('%d + %d = %d' %(c,d,c+d))\n",
    "                  print('你输了')\n",
    "            elif c+d==a+b:\n",
    "                  print('%d + %d = %d' %(c,d,c+d))\n",
    "                  print('你赢了')\n",
    "shaizi()"
   ]
  },
  {
   "cell_type": "code",
   "execution_count": null,
   "metadata": {},
   "outputs": [],
   "source": []
  }
 ],
 "metadata": {
  "kernelspec": {
   "display_name": "Python 3",
   "language": "python",
   "name": "python3"
  }
 },
 "nbformat": 4,
 "nbformat_minor": 2
}
