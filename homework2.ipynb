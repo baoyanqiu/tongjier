{
 "cells": [
  {
   "cell_type": "code",
   "execution_count": 26,
   "metadata": {},
   "outputs": [
    {
     "name": "stdout",
     "output_type": "stream",
     "text": [
      "88\n",
      "160\n",
      "78.4\n",
      "124.95000000000002\n"
     ]
    }
   ],
   "source": [
    "class Rectangle(object):\n",
    "    def __init__(self,width,height):\n",
    "        self._width = width\n",
    "        self._height = height\n",
    "    def getPerimeter(self):\n",
    "        print(2*(self._width + self._height))\n",
    "    def getArea(self):\n",
    "        print(self._width * self._height)\n",
    "rectangle = Rectangle(4,40)\n",
    "rectangle.getPerimeter()\n",
    "rectangle.getArea()\n",
    "rectangle2 = Rectangle(3.5,35.7)\n",
    "rectangle2.getPerimeter()\n",
    "rectangle2.getArea()"
   ]
  },
  {
   "cell_type": "code",
   "execution_count": 30,
   "metadata": {},
   "outputs": [
    {
     "name": "stdout",
     "output_type": "stream",
     "text": [
      "请输入取款金额：100\n",
      "您的取款金额为：100\n",
      "请输入存款金额：50\n",
      "您的存款金额为： 50\n"
     ]
    }
   ],
   "source": [
    "class Account(object):\n",
    "    def __init__(self,id,balance,annualInterestRate):\n",
    "        self._id = 0\n",
    "        self._balance = 100\n",
    "        self._annualInterestRate = 0\n",
    "    #def getMonthlyInterestRate(self,c):\n",
    "        #c = annuaInterestRate/12\n",
    "    #def getMonthlyInterest(self):\n",
    "        #return self._balace*getMonthlyInterestRate\n",
    "    def withdraw(self):\n",
    "        money = input(\"请输入取款金额：\")\n",
    "        print(\"您的取款金额为：%s\" % money)\n",
    "    def deposit(self):\n",
    "        money2 = input(\"请输入存款金额：\")\n",
    "        print(\"您的存款金额为： %s\" % money2)\n",
    "account = Account(1122,20000,0.045)\n",
    "#account.getMonthlyInterestRate()\n",
    "#account.getMonthlyInterest()\n",
    "account.withdraw()\n",
    "account.deposit()\n",
    "    "
   ]
  },
  {
   "cell_type": "code",
   "execution_count": 38,
   "metadata": {},
   "outputs": [
    {
     "ename": "NameError",
     "evalue": "name 'Mendium' is not defined",
     "output_type": "error",
     "traceback": [
      "\u001b[1;31m---------------------------------------------------------------------------\u001b[0m",
      "\u001b[1;31mNameError\u001b[0m                                 Traceback (most recent call last)",
      "\u001b[1;32m<ipython-input-38-dcca8c584fb1>\u001b[0m in \u001b[0;36m<module>\u001b[1;34m()\u001b[0m\n\u001b[0;32m      4\u001b[0m         \u001b[0mself\u001b[0m\u001b[1;33m.\u001b[0m\u001b[0m_Medium\u001b[0m \u001b[1;33m=\u001b[0m \u001b[0mMendium\u001b[0m\u001b[1;33m\u001b[0m\u001b[0m\n\u001b[0;32m      5\u001b[0m         \u001b[0mself\u001b[0m\u001b[1;33m.\u001b[0m\u001b[0m_Fast\u001b[0m \u001b[1;33m=\u001b[0m \u001b[0mFast\u001b[0m\u001b[1;33m\u001b[0m\u001b[0m\n\u001b[1;32m----> 6\u001b[1;33m \u001b[0mfan\u001b[0m \u001b[1;33m=\u001b[0m \u001b[0mFan\u001b[0m\u001b[1;33m(\u001b[0m\u001b[1;36m1\u001b[0m\u001b[1;33m,\u001b[0m\u001b[1;36m2\u001b[0m\u001b[1;33m,\u001b[0m\u001b[1;36m3\u001b[0m\u001b[1;33m)\u001b[0m\u001b[1;33m\u001b[0m\u001b[0m\n\u001b[0m\u001b[0;32m      7\u001b[0m \u001b[0mprint\u001b[0m\u001b[1;33m(\u001b[0m\u001b[0mfan\u001b[0m\u001b[1;33m(\u001b[0m\u001b[1;33m)\u001b[0m\u001b[1;33m)\u001b[0m\u001b[1;33m\u001b[0m\u001b[0m\n",
      "\u001b[1;32m<ipython-input-38-dcca8c584fb1>\u001b[0m in \u001b[0;36m__init__\u001b[1;34m(self, Slow, Medium, Fast)\u001b[0m\n\u001b[0;32m      2\u001b[0m     \u001b[1;32mdef\u001b[0m \u001b[0m__init__\u001b[0m\u001b[1;33m(\u001b[0m\u001b[0mself\u001b[0m\u001b[1;33m,\u001b[0m\u001b[0mSlow\u001b[0m\u001b[1;33m,\u001b[0m\u001b[0mMedium\u001b[0m\u001b[1;33m,\u001b[0m\u001b[0mFast\u001b[0m\u001b[1;33m)\u001b[0m\u001b[1;33m:\u001b[0m\u001b[1;33m\u001b[0m\u001b[0m\n\u001b[0;32m      3\u001b[0m         \u001b[0mself\u001b[0m\u001b[1;33m.\u001b[0m\u001b[0m_Slow\u001b[0m \u001b[1;33m=\u001b[0m \u001b[0mSlow\u001b[0m\u001b[1;33m\u001b[0m\u001b[0m\n\u001b[1;32m----> 4\u001b[1;33m         \u001b[0mself\u001b[0m\u001b[1;33m.\u001b[0m\u001b[0m_Medium\u001b[0m \u001b[1;33m=\u001b[0m \u001b[0mMendium\u001b[0m\u001b[1;33m\u001b[0m\u001b[0m\n\u001b[0m\u001b[0;32m      5\u001b[0m         \u001b[0mself\u001b[0m\u001b[1;33m.\u001b[0m\u001b[0m_Fast\u001b[0m \u001b[1;33m=\u001b[0m \u001b[0mFast\u001b[0m\u001b[1;33m\u001b[0m\u001b[0m\n\u001b[0;32m      6\u001b[0m \u001b[0mfan\u001b[0m \u001b[1;33m=\u001b[0m \u001b[0mFan\u001b[0m\u001b[1;33m(\u001b[0m\u001b[1;36m1\u001b[0m\u001b[1;33m,\u001b[0m\u001b[1;36m2\u001b[0m\u001b[1;33m,\u001b[0m\u001b[1;36m3\u001b[0m\u001b[1;33m)\u001b[0m\u001b[1;33m\u001b[0m\u001b[0m\n",
      "\u001b[1;31mNameError\u001b[0m: name 'Mendium' is not defined"
     ]
    }
   ],
   "source": [
    "class Fan(object):\n",
    "    def __init__(self,Slow,Medium,Fast):\n",
    "        self._Slow = Slow\n",
    "        self._Medium = Mendium\n",
    "        self._Fast = Fast\n",
    "    def \n",
    "fan = Fan(1,2,3)\n",
    "print(fan())"
   ]
  },
  {
   "cell_type": "code",
   "execution_count": 44,
   "metadata": {},
   "outputs": [
    {
     "name": "stdout",
     "output_type": "stream",
     "text": [
      "多边形周长：24.000000\n"
     ]
    }
   ],
   "source": [
    "class RegularPolygon(object):\n",
    "    def __init__(self,n,side,x,y):\n",
    "        self._n = n\n",
    "        self._side = side\n",
    "        self._x = x\n",
    "        self._y = y\n",
    "    def getPerimeter(self):\n",
    "        print(\"多边形周长：%f\"%(self._n*self._side))\n",
    "    #def getArea(self):\n",
    "        #print(\"多边形面积：%f\"%(self.n*self))\n",
    "re = RegularPolygon(6,4,0,0)\n",
    "re.getPerimeter()\n",
    "        \n",
    "    "
   ]
  },
  {
   "cell_type": "code",
   "execution_count": null,
   "metadata": {},
   "outputs": [],
   "source": [
    "class LinearEquation(object):\n",
    "    def __init__(self,a,b,c,d,f):\n",
    "        self._a = a\n",
    "        self._b = b\n",
    "        self._c = c\n",
    "        self._d = d\n",
    "        self._f = f\n",
    "    def "
   ]
  }
 ],
 "metadata": {
  "kernelspec": {
   "display_name": "Python 3",
   "language": "python",
   "name": "python3"
  },
  "language_info": {
   "codemirror_mode": {
    "name": "ipython",
    "version": 3
   },
   "file_extension": ".py",
   "mimetype": "text/x-python",
   "name": "python",
   "nbconvert_exporter": "python",
   "pygments_lexer": "ipython3",
   "version": "3.6.4"
  }
 },
 "nbformat": 4,
 "nbformat_minor": 2
}
