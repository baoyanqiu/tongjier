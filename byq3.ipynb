{
 "cells": [
  {
   "cell_type": "code",
   "execution_count": 1,
   "metadata": {},
   "outputs": [],
   "source": [
    "import requests\n",
    "def byq():\n",
    "    url = ['http://www.17k.com/book/2731559.html','http://www.17k.com']\n",
    "    file = 'C:/Users/dy/Desktop/b.html'\n",
    "    with open('C:/Users/dy/Desktop/b.html','a',encoding='utf-8')as f:\n",
    "        for i in range(2):\n",
    "            header = {'User-Agent':'Mozilla/5.0 (Windows NT 10.0; Win64; x64) AppleWebKit/537.36 (KHTML, like Gecko) Chrome/66.0.3359.139 Safari/537.36'}\n",
    "            r = requests.get('http://www.17k.com/book/2731559.html',headers=header)\n",
    "            f.write(r.text)"
   ]
  }
 ],
 "metadata": {
  "kernelspec": {
   "display_name": "Python 3",
   "language": "python",
   "name": "python3"
  },
  "language_info": {
   "codemirror_mode": {
    "name": "ipython",
    "version": 3
   },
   "file_extension": ".py",
   "mimetype": "text/x-python",
   "name": "python",
   "nbconvert_exporter": "python",
   "pygments_lexer": "ipython3",
   "version": "3.6.4"
  }
 },
 "nbformat": 4,
 "nbformat_minor": 2
}
