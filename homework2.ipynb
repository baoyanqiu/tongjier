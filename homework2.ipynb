{
 "cells": [
  {
   "cell_type": "code",
   "execution_count": 26,
   "metadata": {},
   "outputs": [
    {
     "name": "stdout",
     "output_type": "stream",
     "text": [
      "88\n",
      "160\n",
      "78.4\n",
      "124.95000000000002\n"
     ]
    }
   ],
   "source": [
    "#1.矩形\n",
    "class Rectangle(object):\n",
    "    def __init__(self,width,height):\n",
    "        self._width = width\n",
    "        self._height = height\n",
    "    def getPerimeter(self):\n",
    "        print(2*(self._width + self._height))\n",
    "    def getArea(self):\n",
    "        print(self._width * self._height)\n",
    "rectangle = Rectangle(4,40)\n",
    "rectangle.getPerimeter()\n",
    "rectangle.getArea()\n",
    "rectangle2 = Rectangle(3.5,35.7)\n",
    "rectangle2.getPerimeter()\n",
    "rectangle2.getArea()"
   ]
  },
  {
   "cell_type": "code",
   "execution_count": 68,
   "metadata": {},
   "outputs": [
    {
     "name": "stdout",
     "output_type": "stream",
     "text": [
      "请输入取款金额：2500\n",
      "请输入存款金额：3000\n",
      "id；1122\n",
      "您的取款金额为：2500\n",
      "您的存款金额为： 3000\n",
      "月利率：0.003750\n",
      "月利息：0.375000\n"
     ]
    }
   ],
   "source": [
    "#2.账户\n",
    "class Account(object):\n",
    "    def __init__(self,id=1122,balance=100,annualInterestRate=0.045):\n",
    "        self._i = id\n",
    "        self._b = balance\n",
    "        self._a = annualInterestRate\n",
    "    def getMonthlyInterestRate(self):\n",
    "        c =self._a/12\n",
    "        self._c=c\n",
    "    def getMonthlyInterest(self):\n",
    "        d=self._b*self._c\n",
    "        self._d=d\n",
    "    def withdraw(self):\n",
    "        money = input(\"请输入取款金额：\")\n",
    "        self._money=money\n",
    "    def deposit(self):\n",
    "        money2 = input(\"请输入存款金额：\")\n",
    "        print(\"id；%d\"%self._i)\n",
    "        print(\"您的取款金额为：%s\" % self._money)\n",
    "        print(\"您的存款金额为： %s\" % money2)\n",
    "        print(\"月利率：%f\"%self._c)\n",
    "        print(\"月利息：%f\"%self._d)\n",
    "            \n",
    "account = Account()\n",
    "account.getMonthlyInterestRate()\n",
    "account.getMonthlyInterest()\n",
    "account.withdraw()\n",
    "account.deposit()\n",
    "    "
   ]
  },
  {
   "cell_type": "code",
   "execution_count": 33,
   "metadata": {},
   "outputs": [
    {
     "name": "stdout",
     "output_type": "stream",
     "text": [
      "yellow颜色的风扇，它的半径为：10,风速为：FAST,打开状态：true\n",
      "blue颜色的风扇，它的半径为：5,风速为：MEDIUM,打开状态：Flase\n"
     ]
    }
   ],
   "source": [
    "#3.风扇\n",
    "class Fan(object):\n",
    "\n",
    "    def __init__(self,speed,on,radius,color):\n",
    "        self._speed=speed\n",
    "        if speed==\"1\":\n",
    "            self._speed=\"SLOW\"\n",
    "        elif speed==\"2\":\n",
    "            self._speed=\"MEDIUM\"\n",
    "        elif speed==\"3\":\n",
    "            self._speed=\"FAST\"\n",
    "        self._on=on\n",
    "        self._radius=radius\n",
    "        self._color=color\n",
    "        \n",
    "       # self._Slow = Slow\n",
    "        #self._Medium = Mendium\n",
    "        #self._Fast = Fast:\n",
    "        \n",
    "    def fengshan(self):\n",
    "        print(self._color+\"颜色的风扇，\"+\"它的半径为：\"+self._radius+\",风速为：\"+self._speed+\",打开状态：\"+self._on)\n",
    "\n",
    "f=Fan(\"3\",\"true\",\"10\",\"yellow\")\n",
    "d=Fan(\"2\",\"Flase\",\"5\",\"blue\")\n",
    "f.fengshan()\n",
    "d.fengshan()"
   ]
  },
  {
   "cell_type": "code",
   "execution_count": 9,
   "metadata": {},
   "outputs": [
    {
     "name": "stdout",
     "output_type": "stream",
     "text": [
      "多边形周长：24.000000\n"
     ]
    }
   ],
   "source": [
    "#4.正n边形\n",
    "class RegularPolygon(object):\n",
    "    def __init__(self,n,side,x,y):\n",
    "        self._n = n\n",
    "        self._side = side\n",
    "        self._x = x\n",
    "        self._y = y\n",
    "    def getPerimeter(self):\n",
    "        print(\"多边形周长：%f\"%(self._n*self._side))\n",
    "    #def getArea(self):\n",
    "        #print(\"多边形面积：%f\"%(self.n*self))\n",
    "re = RegularPolygon(6,4,0,0)\n",
    "re.getPerimeter()\n",
    "        \n",
    "    "
   ]
  },
  {
   "cell_type": "code",
   "execution_count": 45,
   "metadata": {},
   "outputs": [
    {
     "name": "stdout",
     "output_type": "stream",
     "text": [
      "x的值：10\n",
      "y的值:-7\n",
      "true\n"
     ]
    }
   ],
   "source": [
    "#5.线性方程\n",
    "class LinearEquation(object):\n",
    "    def __init__(self,a,b,c,d,e,f):\n",
    "        self._a = a\n",
    "        self._b = b\n",
    "        self._c = c\n",
    "        self._d = d\n",
    "        self._e = e\n",
    "        self._f = f\n",
    "    def getX(self):\n",
    "        x=(self._e*self._d-self._b*self._f)-(self._a*self._d-self._b*self._c)\n",
    "        print(\"x的值：%d\"%x)\n",
    "    def getY(self):\n",
    "        y=(self._a*self._f-self._e*self._c)-(self._a*self._d-self._b*self._c)\n",
    "        print(\"y的值:%d\"%y)\n",
    "    def isSolvable(self):\n",
    "        if (self._a*self._b)-(self._b*self._c)!=0:\n",
    "            print(\"true\")\n",
    "        else:\n",
    "            print(\"这个方程无解\")\n",
    "test=LinearEquation(1,2,3,4,5,6)\n",
    "test.getX()\n",
    "test.getY()\n",
    "test.isSolvable()\n"
   ]
  },
  {
   "cell_type": "code",
   "execution_count": null,
   "metadata": {},
   "outputs": [],
   "source": [
    "#6.交叉线\n",
    "def LinearEquation(object):\n",
    "    def __init__(self,x1,x2,x3,x4,y1,y2,y3,y4):\n",
    "        self._x1 = x1\n",
    "        self._x2 = x2\n",
    "        self._x3 = x3\n",
    "        self._x4 = x4\n",
    "        self._y1 = y1\n",
    "        self._y2 = y3\n",
    "        self._y3 = y3\n",
    "        self._y4 = y4\n",
    "    def point(self):\n",
    "        "
   ]
  }
 ],
 "metadata": {
  "kernelspec": {
   "display_name": "Python 3",
   "language": "python",
   "name": "python3"
  },
  "language_info": {
   "codemirror_mode": {
    "name": "ipython",
    "version": 3
   },
   "file_extension": ".py",
   "mimetype": "text/x-python",
   "name": "python",
   "nbconvert_exporter": "python",
   "pygments_lexer": "ipython3",
   "version": "3.6.4"
  }
 },
 "nbformat": 4,
 "nbformat_minor": 2
}
